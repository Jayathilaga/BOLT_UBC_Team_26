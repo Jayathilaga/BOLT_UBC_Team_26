{
 "cells": [
  {
   "cell_type": "code",
   "execution_count": 1,
   "id": "233edff6-e2cd-4e2a-895f-ad806aac00e5",
   "metadata": {},
   "outputs": [
    {
     "name": "stdout",
     "output_type": "stream",
     "text": [
      "<class 'pandas.core.frame.DataFrame'>\n",
      "RangeIndex: 10168 entries, 0 to 10167\n",
      "Data columns (total 14 columns):\n",
      " #   Column                    Non-Null Count  Dtype  \n",
      "---  ------                    --------------  -----  \n",
      " 0   CLIENTNUM                 10168 non-null  int64  \n",
      " 1   Attrition_Flag            10168 non-null  object \n",
      " 2   Customer_Age              10168 non-null  int64  \n",
      " 3   Gender                    10168 non-null  object \n",
      " 4   Dependent_count           10168 non-null  int64  \n",
      " 5   Education_Level           10168 non-null  object \n",
      " 6   Marital_Status            10168 non-null  object \n",
      " 7   Income_Category           10168 non-null  object \n",
      " 8   Card_Category             10168 non-null  object \n",
      " 9   Months_on_book            10168 non-null  int64  \n",
      " 10  Total_Relationship_Count  10168 non-null  int64  \n",
      " 11  Months_Inactive_12_mon    10168 non-null  int64  \n",
      " 12  Contacts_Count_12_mon     10168 non-null  int64  \n",
      " 13  Credit_Limit              10168 non-null  float64\n",
      "dtypes: float64(1), int64(7), object(6)\n",
      "memory usage: 1.1+ MB\n"
     ]
    }
   ],
   "source": [
    "import pandas as pd\n",
    "data = pd.read_excel(\"Blue Chip Credit Dataset.xlsx\")\n",
    "data.info()"
   ]
  },
  {
   "cell_type": "code",
   "execution_count": 3,
   "id": "f6ded714-fb32-4bbd-a677-7a5b73a81ae9",
   "metadata": {},
   "outputs": [
    {
     "data": {
      "text/html": [
       "<div>\n",
       "<style scoped>\n",
       "    .dataframe tbody tr th:only-of-type {\n",
       "        vertical-align: middle;\n",
       "    }\n",
       "\n",
       "    .dataframe tbody tr th {\n",
       "        vertical-align: top;\n",
       "    }\n",
       "\n",
       "    .dataframe thead th {\n",
       "        text-align: right;\n",
       "    }\n",
       "</style>\n",
       "<table border=\"1\" class=\"dataframe\">\n",
       "  <thead>\n",
       "    <tr style=\"text-align: right;\">\n",
       "      <th></th>\n",
       "      <th>CLIENTNUM</th>\n",
       "      <th>Customer_Age</th>\n",
       "      <th>Dependent_count</th>\n",
       "      <th>Months_on_book</th>\n",
       "      <th>Total_Relationship_Count</th>\n",
       "      <th>Months_Inactive_12_mon</th>\n",
       "      <th>Contacts_Count_12_mon</th>\n",
       "      <th>Credit_Limit</th>\n",
       "    </tr>\n",
       "  </thead>\n",
       "  <tbody>\n",
       "    <tr>\n",
       "      <th>count</th>\n",
       "      <td>1.016800e+04</td>\n",
       "      <td>10168.000000</td>\n",
       "      <td>10168.000000</td>\n",
       "      <td>10168.000000</td>\n",
       "      <td>10168.000000</td>\n",
       "      <td>10168.000000</td>\n",
       "      <td>10168.00000</td>\n",
       "      <td>10168.000000</td>\n",
       "    </tr>\n",
       "    <tr>\n",
       "      <th>mean</th>\n",
       "      <td>7.392792e+08</td>\n",
       "      <td>44.734264</td>\n",
       "      <td>2.345692</td>\n",
       "      <td>35.997443</td>\n",
       "      <td>3.809107</td>\n",
       "      <td>2.343725</td>\n",
       "      <td>2.44640</td>\n",
       "      <td>8572.029770</td>\n",
       "    </tr>\n",
       "    <tr>\n",
       "      <th>std</th>\n",
       "      <td>3.695261e+07</td>\n",
       "      <td>10.044976</td>\n",
       "      <td>1.298094</td>\n",
       "      <td>7.996655</td>\n",
       "      <td>1.558173</td>\n",
       "      <td>1.010794</td>\n",
       "      <td>1.10289</td>\n",
       "      <td>9040.872045</td>\n",
       "    </tr>\n",
       "    <tr>\n",
       "      <th>min</th>\n",
       "      <td>7.080821e+08</td>\n",
       "      <td>18.000000</td>\n",
       "      <td>0.000000</td>\n",
       "      <td>13.000000</td>\n",
       "      <td>1.000000</td>\n",
       "      <td>0.000000</td>\n",
       "      <td>0.00000</td>\n",
       "      <td>1438.300000</td>\n",
       "    </tr>\n",
       "    <tr>\n",
       "      <th>25%</th>\n",
       "      <td>7.130102e+08</td>\n",
       "      <td>40.000000</td>\n",
       "      <td>1.000000</td>\n",
       "      <td>32.000000</td>\n",
       "      <td>3.000000</td>\n",
       "      <td>2.000000</td>\n",
       "      <td>2.00000</td>\n",
       "      <td>2540.000000</td>\n",
       "    </tr>\n",
       "    <tr>\n",
       "      <th>50%</th>\n",
       "      <td>7.179516e+08</td>\n",
       "      <td>46.000000</td>\n",
       "      <td>2.000000</td>\n",
       "      <td>36.000000</td>\n",
       "      <td>4.000000</td>\n",
       "      <td>2.000000</td>\n",
       "      <td>2.00000</td>\n",
       "      <td>4511.500000</td>\n",
       "    </tr>\n",
       "    <tr>\n",
       "      <th>75%</th>\n",
       "      <td>7.732911e+08</td>\n",
       "      <td>51.000000</td>\n",
       "      <td>3.000000</td>\n",
       "      <td>40.000000</td>\n",
       "      <td>5.000000</td>\n",
       "      <td>3.000000</td>\n",
       "      <td>3.00000</td>\n",
       "      <td>10960.250000</td>\n",
       "    </tr>\n",
       "    <tr>\n",
       "      <th>max</th>\n",
       "      <td>8.283431e+08</td>\n",
       "      <td>73.000000</td>\n",
       "      <td>5.000000</td>\n",
       "      <td>56.000000</td>\n",
       "      <td>6.000000</td>\n",
       "      <td>6.000000</td>\n",
       "      <td>6.00000</td>\n",
       "      <td>34516.000000</td>\n",
       "    </tr>\n",
       "  </tbody>\n",
       "</table>\n",
       "</div>"
      ],
      "text/plain": [
       "          CLIENTNUM  Customer_Age  Dependent_count  Months_on_book  \\\n",
       "count  1.016800e+04  10168.000000     10168.000000    10168.000000   \n",
       "mean   7.392792e+08     44.734264         2.345692       35.997443   \n",
       "std    3.695261e+07     10.044976         1.298094        7.996655   \n",
       "min    7.080821e+08     18.000000         0.000000       13.000000   \n",
       "25%    7.130102e+08     40.000000         1.000000       32.000000   \n",
       "50%    7.179516e+08     46.000000         2.000000       36.000000   \n",
       "75%    7.732911e+08     51.000000         3.000000       40.000000   \n",
       "max    8.283431e+08     73.000000         5.000000       56.000000   \n",
       "\n",
       "       Total_Relationship_Count  Months_Inactive_12_mon  \\\n",
       "count              10168.000000            10168.000000   \n",
       "mean                   3.809107                2.343725   \n",
       "std                    1.558173                1.010794   \n",
       "min                    1.000000                0.000000   \n",
       "25%                    3.000000                2.000000   \n",
       "50%                    4.000000                2.000000   \n",
       "75%                    5.000000                3.000000   \n",
       "max                    6.000000                6.000000   \n",
       "\n",
       "       Contacts_Count_12_mon  Credit_Limit  \n",
       "count            10168.00000  10168.000000  \n",
       "mean                 2.44640   8572.029770  \n",
       "std                  1.10289   9040.872045  \n",
       "min                  0.00000   1438.300000  \n",
       "25%                  2.00000   2540.000000  \n",
       "50%                  2.00000   4511.500000  \n",
       "75%                  3.00000  10960.250000  \n",
       "max                  6.00000  34516.000000  "
      ]
     },
     "execution_count": 3,
     "metadata": {},
     "output_type": "execute_result"
    }
   ],
   "source": [
    "data.describe()"
   ]
  },
  {
   "cell_type": "code",
   "execution_count": 5,
   "id": "1a5c6c0e-abc1-4e92-a67a-26e33577a5cc",
   "metadata": {},
   "outputs": [
    {
     "data": {
      "text/plain": [
       "Existing Customer    0.784422\n",
       "Attrited Customer    0.215578\n",
       "Name: Attrition_Flag, dtype: float64"
      ]
     },
     "execution_count": 5,
     "metadata": {},
     "output_type": "execute_result"
    }
   ],
   "source": [
    "data.Attrition_Flag.value_counts(normalize=True)"
   ]
  },
  {
   "cell_type": "code",
   "execution_count": 6,
   "id": "47281dc9-34f5-4445-9e5a-687bccc6c9ef",
   "metadata": {},
   "outputs": [
    {
     "data": {
      "text/plain": [
       "F    0.528619\n",
       "M    0.471381\n",
       "Name: Gender, dtype: float64"
      ]
     },
     "execution_count": 6,
     "metadata": {},
     "output_type": "execute_result"
    }
   ],
   "source": [
    "data.Gender.value_counts(normalize=True)"
   ]
  },
  {
   "cell_type": "code",
   "execution_count": null,
   "id": "6cff8012-6973-4b1f-ac93-9032cb046fad",
   "metadata": {},
   "outputs": [],
   "source": []
  },
  {
   "cell_type": "code",
   "execution_count": 7,
   "id": "a1f29f6e-3f49-4085-adcf-4b578f9986a0",
   "metadata": {},
   "outputs": [
    {
     "data": {
      "text/plain": [
       "Graduate         0.289732\n",
       "High School      0.187057\n",
       "College          0.157750\n",
       "Unknown          0.139064\n",
       "Uneducated       0.137490\n",
       "Post-Graduate    0.047404\n",
       "Doctorate        0.041503\n",
       "Name: Education_Level, dtype: float64"
      ]
     },
     "execution_count": 7,
     "metadata": {},
     "output_type": "execute_result"
    }
   ],
   "source": [
    "data.Education_Level.value_counts(normalize=True)"
   ]
  },
  {
   "cell_type": "code",
   "execution_count": 11,
   "id": "e0b332d0-81ed-4855-8320-9fd37e6f3700",
   "metadata": {},
   "outputs": [
    {
     "data": {
      "text/plain": [
       "(Married     4463\n",
       " Single      4302\n",
       " Divorced     708\n",
       " Unknown      695\n",
       " Name: Marital_Status, dtype: int64,\n",
       " Married     0.438926\n",
       " Single      0.423092\n",
       " Divorced    0.069630\n",
       " Unknown     0.068352\n",
       " Name: Marital_Status, dtype: float64)"
      ]
     },
     "execution_count": 11,
     "metadata": {},
     "output_type": "execute_result"
    }
   ],
   "source": [
    "data.Marital_Status.value_counts(),data.Marital_Status.value_counts(normalize=True)"
   ]
  },
  {
   "cell_type": "code",
   "execution_count": 9,
   "id": "388502f4-5424-4a6a-9739-0ef51cf63cc8",
   "metadata": {},
   "outputs": [
    {
     "data": {
      "text/plain": [
       "Less than $40K    0.390736\n",
       "$40K - $60K       0.164929\n",
       "$80K - $120K      0.141621\n",
       "$60K - $80K       0.132179\n",
       "Unknown           0.103757\n",
       "$120K +           0.066778\n",
       "Name: Income_Category, dtype: float64"
      ]
     },
     "execution_count": 9,
     "metadata": {},
     "output_type": "execute_result"
    }
   ],
   "source": [
    "data.Income_Category.value_counts(normalize=True)"
   ]
  },
  {
   "cell_type": "code",
   "execution_count": 10,
   "id": "903e8da5-3f3e-4e81-9a8f-27c94de3b522",
   "metadata": {},
   "outputs": [
    {
     "data": {
      "text/plain": [
       "Blue        0.917978\n",
       "Silver      0.069138\n",
       "Gold        0.010917\n",
       "Platinum    0.001967\n",
       "Name: Card_Category, dtype: float64"
      ]
     },
     "execution_count": 10,
     "metadata": {},
     "output_type": "execute_result"
    }
   ],
   "source": [
    "data.Card_Category.value_counts(normalize=True)"
   ]
  }
 ],
 "metadata": {
  "kernelspec": {
   "display_name": "Python 3 (ipykernel)",
   "language": "python",
   "name": "python3"
  },
  "language_info": {
   "codemirror_mode": {
    "name": "ipython",
    "version": 3
   },
   "file_extension": ".py",
   "mimetype": "text/x-python",
   "name": "python",
   "nbconvert_exporter": "python",
   "pygments_lexer": "ipython3",
   "version": "3.9.12"
  }
 },
 "nbformat": 4,
 "nbformat_minor": 5
}
